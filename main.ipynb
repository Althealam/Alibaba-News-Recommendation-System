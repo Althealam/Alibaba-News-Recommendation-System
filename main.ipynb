{
 "cells": [
  {
   "cell_type": "code",
   "execution_count": 17,
   "metadata": {},
   "outputs": [],
   "source": [
    "import pandas as pd  \n",
    "import numpy as np\n",
    "from tqdm import tqdm  \n",
    "from collections import defaultdict  \n",
    "import os, math, warnings, math, pickle\n",
    "import faiss\n",
    "import collections\n",
    "import random\n",
    "from sklearn.preprocessing import MinMaxScaler\n",
    "from sklearn.preprocessing import LabelEncoder\n",
    "from datetime import datetime\n",
    "from sklearn.preprocessing import LabelEncoder\n",
    "from tensorflow.keras import backend as K\n",
    "from tensorflow.keras.models import Model\n",
    "from tensorflow.keras.preprocessing.sequence import pad_sequences\n",
    "from deepctr.feature_column import SparseFeat, VarLenSparseFeat\n",
    "from deepmatch.models import YoutubeDNN\n",
    "from deepmatch.utils import sampledsoftmaxloss,NegativeSampler\n",
    "warnings.filterwarnings('ignore')\n",
    "from data import get_all_click_sample, get_all_click_df, get_item_info_df, get_item_emb_dict\n",
    "from config import get_user_item_time, get_item_user_time_dict, get_hist_and_last_click, get_item_info_dict, get_user_hist_item_info_dict, get_item_topk_click\n",
    "from metrics_recall import metrics_recall\n",
    "from sim_matrix import itemcf_sim, get_user_activate_degree_dict, embedding_sim\n",
    "from sim_matrix import usercf_sim\n",
    "from sim_matrix import embedding_sim\n",
    "from recall import item_based_recommend, user_based_recommend, combine_recall_results\n",
    "from cold_start_items import get_click_article_ids_set, cold_start_items"
   ]
  },
  {
   "cell_type": "code",
   "execution_count": 18,
   "metadata": {},
   "outputs": [],
   "source": [
    "# 定义数据路径\n",
    "data_path='/Users/linjiaxi/Desktop/RecommendationSystem/Competition/Alibaba - News Recommendation Competition/data/'\n",
    "save_path='/Users/linjiaxi/Desktop/RecommendationSystem/Competition/Alibaba - News Recommendation Competition/tmp/'\n",
    "metric_recall=True"
   ]
  },
  {
   "cell_type": "code",
   "execution_count": 19,
   "metadata": {},
   "outputs": [],
   "source": [
    "# 定义归一化\n",
    "max_min_scaler=lambda x: (x-np.min(x))/(np.max(x)-np.min(x))"
   ]
  },
  {
   "cell_type": "code",
   "execution_count": 20,
   "metadata": {},
   "outputs": [],
   "source": [
    "# 定义数据\n",
    "# 使用debug模式\n",
    "\n",
    "# 用户的点击记录\n",
    "all_click_df=get_all_click_sample(data_path,1000)\n",
    "# 文章的基本属性\n",
    "item_info_df=get_item_info_df(data_path)\n",
    "# 文章的embedding字典\n",
    "item_emb_dict=get_item_emb_dict(data_path)"
   ]
  },
  {
   "cell_type": "code",
   "execution_count": 21,
   "metadata": {},
   "outputs": [
    {
     "data": {
      "text/html": [
       "<div>\n",
       "<style scoped>\n",
       "    .dataframe tbody tr th:only-of-type {\n",
       "        vertical-align: middle;\n",
       "    }\n",
       "\n",
       "    .dataframe tbody tr th {\n",
       "        vertical-align: top;\n",
       "    }\n",
       "\n",
       "    .dataframe thead th {\n",
       "        text-align: right;\n",
       "    }\n",
       "</style>\n",
       "<table border=\"1\" class=\"dataframe\">\n",
       "  <thead>\n",
       "    <tr style=\"text-align: right;\">\n",
       "      <th></th>\n",
       "      <th>user_id</th>\n",
       "      <th>click_article_id</th>\n",
       "      <th>click_timestamp</th>\n",
       "      <th>click_environment</th>\n",
       "      <th>click_deviceGroup</th>\n",
       "      <th>click_os</th>\n",
       "      <th>click_country</th>\n",
       "      <th>click_region</th>\n",
       "      <th>click_referrer_type</th>\n",
       "    </tr>\n",
       "  </thead>\n",
       "  <tbody>\n",
       "    <tr>\n",
       "      <th>621</th>\n",
       "      <td>199777</td>\n",
       "      <td>156624</td>\n",
       "      <td>1507029874807</td>\n",
       "      <td>4</td>\n",
       "      <td>3</td>\n",
       "      <td>2</td>\n",
       "      <td>1</td>\n",
       "      <td>21</td>\n",
       "      <td>2</td>\n",
       "    </tr>\n",
       "    <tr>\n",
       "      <th>622</th>\n",
       "      <td>199777</td>\n",
       "      <td>160417</td>\n",
       "      <td>1507029923847</td>\n",
       "      <td>4</td>\n",
       "      <td>3</td>\n",
       "      <td>2</td>\n",
       "      <td>1</td>\n",
       "      <td>21</td>\n",
       "      <td>2</td>\n",
       "    </tr>\n",
       "    <tr>\n",
       "      <th>623</th>\n",
       "      <td>199777</td>\n",
       "      <td>159847</td>\n",
       "      <td>1507029953847</td>\n",
       "      <td>4</td>\n",
       "      <td>3</td>\n",
       "      <td>2</td>\n",
       "      <td>1</td>\n",
       "      <td>21</td>\n",
       "      <td>2</td>\n",
       "    </tr>\n",
       "    <tr>\n",
       "      <th>1429</th>\n",
       "      <td>199490</td>\n",
       "      <td>336476</td>\n",
       "      <td>1507034135792</td>\n",
       "      <td>4</td>\n",
       "      <td>1</td>\n",
       "      <td>17</td>\n",
       "      <td>1</td>\n",
       "      <td>25</td>\n",
       "      <td>2</td>\n",
       "    </tr>\n",
       "    <tr>\n",
       "      <th>1430</th>\n",
       "      <td>199490</td>\n",
       "      <td>208322</td>\n",
       "      <td>1507038604498</td>\n",
       "      <td>4</td>\n",
       "      <td>1</td>\n",
       "      <td>17</td>\n",
       "      <td>1</td>\n",
       "      <td>25</td>\n",
       "      <td>2</td>\n",
       "    </tr>\n",
       "  </tbody>\n",
       "</table>\n",
       "</div>"
      ],
      "text/plain": [
       "      user_id  click_article_id  click_timestamp  click_environment  \\\n",
       "621    199777            156624    1507029874807                  4   \n",
       "622    199777            160417    1507029923847                  4   \n",
       "623    199777            159847    1507029953847                  4   \n",
       "1429   199490            336476    1507034135792                  4   \n",
       "1430   199490            208322    1507038604498                  4   \n",
       "\n",
       "      click_deviceGroup  click_os  click_country  click_region  \\\n",
       "621                   3         2              1            21   \n",
       "622                   3         2              1            21   \n",
       "623                   3         2              1            21   \n",
       "1429                  1        17              1            25   \n",
       "1430                  1        17              1            25   \n",
       "\n",
       "      click_referrer_type  \n",
       "621                     2  \n",
       "622                     2  \n",
       "623                     2  \n",
       "1429                    2  \n",
       "1430                    2  "
      ]
     },
     "execution_count": 21,
     "metadata": {},
     "output_type": "execute_result"
    }
   ],
   "source": [
    "all_click_df.head()"
   ]
  },
  {
   "cell_type": "code",
   "execution_count": 22,
   "metadata": {},
   "outputs": [
    {
     "data": {
      "text/html": [
       "<div>\n",
       "<style scoped>\n",
       "    .dataframe tbody tr th:only-of-type {\n",
       "        vertical-align: middle;\n",
       "    }\n",
       "\n",
       "    .dataframe tbody tr th {\n",
       "        vertical-align: top;\n",
       "    }\n",
       "\n",
       "    .dataframe thead th {\n",
       "        text-align: right;\n",
       "    }\n",
       "</style>\n",
       "<table border=\"1\" class=\"dataframe\">\n",
       "  <thead>\n",
       "    <tr style=\"text-align: right;\">\n",
       "      <th></th>\n",
       "      <th>click_article_id</th>\n",
       "      <th>category_id</th>\n",
       "      <th>created_at_ts</th>\n",
       "      <th>words_count</th>\n",
       "    </tr>\n",
       "  </thead>\n",
       "  <tbody>\n",
       "    <tr>\n",
       "      <th>0</th>\n",
       "      <td>0</td>\n",
       "      <td>0</td>\n",
       "      <td>1513144419000</td>\n",
       "      <td>168</td>\n",
       "    </tr>\n",
       "    <tr>\n",
       "      <th>1</th>\n",
       "      <td>1</td>\n",
       "      <td>1</td>\n",
       "      <td>1405341936000</td>\n",
       "      <td>189</td>\n",
       "    </tr>\n",
       "    <tr>\n",
       "      <th>2</th>\n",
       "      <td>2</td>\n",
       "      <td>1</td>\n",
       "      <td>1408667706000</td>\n",
       "      <td>250</td>\n",
       "    </tr>\n",
       "    <tr>\n",
       "      <th>3</th>\n",
       "      <td>3</td>\n",
       "      <td>1</td>\n",
       "      <td>1408468313000</td>\n",
       "      <td>230</td>\n",
       "    </tr>\n",
       "    <tr>\n",
       "      <th>4</th>\n",
       "      <td>4</td>\n",
       "      <td>1</td>\n",
       "      <td>1407071171000</td>\n",
       "      <td>162</td>\n",
       "    </tr>\n",
       "  </tbody>\n",
       "</table>\n",
       "</div>"
      ],
      "text/plain": [
       "   click_article_id  category_id  created_at_ts  words_count\n",
       "0                 0            0  1513144419000          168\n",
       "1                 1            1  1405341936000          189\n",
       "2                 2            1  1408667706000          250\n",
       "3                 3            1  1408468313000          230\n",
       "4                 4            1  1407071171000          162"
      ]
     },
     "execution_count": 22,
     "metadata": {},
     "output_type": "execute_result"
    }
   ],
   "source": [
    "item_info_df.head()"
   ]
  },
  {
   "cell_type": "code",
   "execution_count": 23,
   "metadata": {},
   "outputs": [
    {
     "name": "stdout",
     "output_type": "stream",
     "text": [
      "0:[-0.02118425 -0.12580893 -0.01813001  0.00668391  0.10909397  0.11846624\n",
      " -0.04404838 -0.07354293 -0.06579412  0.02170995  0.05630901  0.04666488\n",
      "  0.11492702 -0.06951095  0.08220764  0.03534407 -0.10814503 -0.09250724\n",
      " -0.08225472 -0.02008969 -0.08756393  0.00569023  0.02347829  0.00616275\n",
      "  0.07813909 -0.02409734  0.02564285 -0.06146177 -0.04006071  0.04641773\n",
      "  0.03656221  0.07079111 -0.04878796  0.06438719 -0.01364673  0.01566297\n",
      "  0.01740611 -0.08162891 -0.0595786   0.04555704 -0.00811461 -0.09602179\n",
      " -0.05048424 -0.12364366  0.00806219  0.06342559  0.038073   -0.08184084\n",
      " -0.00657207  0.05539924 -0.03188176  0.08788847 -0.06689828 -0.06069421\n",
      "  0.00577     0.03791584  0.05912034 -0.03743939  0.12048548  0.09241205\n",
      "  0.11193531 -0.08243855  0.04701659  0.0512825   0.08581513  0.01362305\n",
      "  0.10491944 -0.01347765 -0.02687927  0.04976083 -0.01186304 -0.03300955\n",
      "  0.04284385  0.0112872  -0.0237316   0.00624597 -0.02099457 -0.08150581\n",
      "  0.03947292 -0.10468995  0.06278647  0.05387553  0.04308082  0.00953796\n",
      " -0.11084635  0.07548293  0.04353037  0.09662702 -0.00672256 -0.0553719\n",
      " -0.11848808 -0.0401216  -0.01781782 -0.06153216 -0.03371358 -0.00368468\n",
      "  0.03873509 -0.00885146 -0.06065871  0.00948037 -0.07501019 -0.00788365\n",
      " -0.07233528 -0.07938115  0.05290344 -0.04028066  0.04346518  0.01870665\n",
      "  0.04375365  0.03081685  0.09077243  0.06391993  0.05616949 -0.01524274\n",
      "  0.05065336  0.05200844 -0.08655743 -0.07307556  0.10284474  0.01692638\n",
      "  0.08557871 -0.02738355 -0.06605549  0.05542525 -0.04139032 -0.00360723\n",
      " -0.03212789  0.10635407  0.02468561  0.02128577 -0.01971008 -0.09390406\n",
      " -0.00091728 -0.04112654  0.12415481  0.03156857 -0.02259784 -0.09373021\n",
      "  0.00191951  0.03940221 -0.09514481 -0.04947353  0.08972952 -0.07933075\n",
      " -0.07538353 -0.06339155 -0.08872179  0.01653261 -0.0108014  -0.0614667\n",
      "  0.11471707  0.0470121   0.10502738 -0.10384496  0.06529624  0.07470956\n",
      " -0.04571309  0.08547449 -0.07872635  0.05538737  0.01411314 -0.06049801\n",
      "  0.03966642 -0.05249816 -0.00458397  0.01619317 -0.00023619 -0.02826874\n",
      " -0.05372207  0.02690729 -0.07933813 -0.02952798 -0.05535949  0.08505901\n",
      " -0.04343209 -0.03820711 -0.00704694  0.06786877  0.04339524  0.04942733\n",
      " -0.02315485 -0.07460886 -0.0013101  -0.05261767 -0.06544498 -0.0297435\n",
      " -0.07569498 -0.04803508  0.0384174   0.09054015  0.11461206 -0.00750561\n",
      " -0.04067157 -0.05622186 -0.09056782  0.08594477 -0.05492759 -0.01713211\n",
      " -0.12340462 -0.08030416  0.07438132 -0.00036778 -0.00609367  0.0780876\n",
      "  0.02229499  0.03293534 -0.00825679 -0.05341626  0.02309523 -0.03403827\n",
      "  0.10046245  0.03622786 -0.09096757 -0.05168346 -0.04280575  0.02147263\n",
      " -0.02036532 -0.09221629  0.093555   -0.11027785 -0.0603453   0.12090397\n",
      "  0.08172744 -0.084177    0.05124897  0.10043571  0.02166635 -0.09818101\n",
      "  0.05402212  0.09869072  0.11311417  0.08079711  0.07224165  0.043955\n",
      " -0.0510025  -0.09249106 -0.07457595  0.00085146 -0.0271521  -0.05063617\n",
      "  0.04222158  0.04126878  0.08364352  0.0222351   0.07104095 -0.10687634\n",
      "  0.0377033  -0.03045044  0.07851824  0.05383667]\n",
      "1:[-0.06498079 -0.12097317  0.09173146  0.01927935  0.07778261  0.06027149\n",
      " -0.08888102 -0.11152663 -0.04467875  0.0494602   0.08356338 -0.00138849\n",
      " -0.04315851 -0.06723248  0.05694242  0.05990129  0.08863364 -0.05887461\n",
      "  0.05039675  0.08338836 -0.05971998  0.05399734  0.05818527  0.04674996\n",
      "  0.04570973  0.02391308  0.01186958 -0.0673428   0.00814067  0.04511596\n",
      " -0.02021945  0.0396948   0.05830619  0.0718426  -0.09980769 -0.03782299\n",
      "  0.07892728  0.01117486 -0.07078446  0.01270608 -0.02548841 -0.07586899\n",
      " -0.06228485 -0.11928686 -0.0075256   0.04749456 -0.03693161  0.05082863\n",
      " -0.02705765  0.06189225 -0.07635018  0.10485507  0.08447388 -0.01985978\n",
      "  0.00766718  0.01793794  0.03945281  0.03067727  0.11722423 -0.04726628\n",
      "  0.11408478 -0.10588934 -0.02091164  0.09369785 -0.01772661  0.05224176\n",
      " -0.05414424 -0.01293588  0.0124265  -0.05898841 -0.00341418  0.11074253\n",
      " -0.01174819 -0.09710336  0.03878365 -0.05053624  0.04896493 -0.08918869\n",
      " -0.08055439  0.0320939   0.02332274 -0.10245294  0.03854215  0.05428281\n",
      " -0.05923058 -0.05536764  0.05088271  0.07506041 -0.04492041 -0.04628881\n",
      "  0.02814642 -0.07945122  0.08290194 -0.10208213  0.05475915  0.00263873\n",
      "  0.03830134 -0.04175772  0.02855523  0.01677929  0.01868126 -0.09672384\n",
      " -0.02029872 -0.03754595  0.03994736  0.10690982 -0.01048548 -0.05172177\n",
      "  0.00309404  0.01940745 -0.042687    0.10761483  0.02659099  0.08532522\n",
      "  0.1059384   0.01053193 -0.06415953 -0.10658304 -0.06767883  0.05020549\n",
      "  0.06076507 -0.00862761  0.0400436   0.0424081   0.0434777  -0.00116645\n",
      "  0.09617592  0.11220514 -0.08091692 -0.02744062 -0.10614041 -0.04241469\n",
      "  0.06087706  0.10446053  0.11999189  0.07981133  0.07747514  0.01799468\n",
      "  0.05790624  0.04829908 -0.10999084  0.06370201 -0.041662    0.08582252\n",
      " -0.04970988  0.00851067 -0.00452521 -0.08274356 -0.07799751  0.02417545\n",
      "  0.11596007 -0.10786465  0.02990218 -0.06295816 -0.05514397  0.06020027\n",
      "  0.03428738  0.02997861 -0.03143384 -0.03682834 -0.03815093  0.08554395\n",
      "  0.06257868  0.04400719 -0.03133554 -0.06885722 -0.03527225 -0.072421\n",
      "  0.08922033 -0.08859026 -0.04284444 -0.0478904   0.04975765  0.06289742\n",
      "  0.03916921  0.09932139 -0.0277925  -0.09877244  0.03737846 -0.04257543\n",
      " -0.0129629  -0.04324991 -0.02601823 -0.04251682 -0.09082053  0.01895996\n",
      " -0.02864675 -0.00881573 -0.11014227 -0.08809449  0.01819643 -0.02282518\n",
      "  0.00197034 -0.00323131  0.01192864 -0.06111632  0.01981428  0.03070028\n",
      " -0.11986671 -0.05018481  0.04900745 -0.07001217 -0.11122481  0.08681161\n",
      "  0.08045704 -0.06036205 -0.0834186   0.00272385 -0.00684369 -0.0506288\n",
      "  0.04276294 -0.06632635  0.09050888  0.10682138 -0.00349809  0.06099389\n",
      "  0.06601661  0.06772978 -0.02999856 -0.01131647  0.00020182  0.11809988\n",
      " -0.04567954 -0.02675292 -0.01638023  0.08806432  0.0761162   0.10120466\n",
      "  0.03461068  0.00045831 -0.03561581 -0.01253571 -0.04751767 -0.02383125\n",
      " -0.0517173  -0.10638463  0.06674759  0.03498485 -0.08467981  0.08272564\n",
      " -0.06058773  0.10222798  0.05125378 -0.0420592   0.03984009  0.07310649\n",
      " -0.07378883  0.02270635  0.04931655 -0.10362383]\n"
     ]
    }
   ],
   "source": [
    "num_items=2\n",
    "for key, value in list(item_emb_dict.items())[:num_items]:\n",
    "    print(f\"{key}:{value}\")"
   ]
  },
  {
   "cell_type": "code",
   "execution_count": 24,
   "metadata": {},
   "outputs": [],
   "source": [
    "# 获取文章的属性信息，保存成字典的形式方便查询\n",
    "item_type_dict, item_words_dict, item_created_time_dict=get_item_info_dict(item_info_df)"
   ]
  },
  {
   "cell_type": "code",
   "execution_count": 25,
   "metadata": {},
   "outputs": [
    {
     "name": "stdout",
     "output_type": "stream",
     "text": [
      "0:0\n",
      "1:1\n"
     ]
    }
   ],
   "source": [
    "num_items=2\n",
    "for key, value in list(item_type_dict.items())[:num_items]:\n",
    "    print(f\"{key}:{value}\")"
   ]
  },
  {
   "cell_type": "code",
   "execution_count": 26,
   "metadata": {},
   "outputs": [
    {
     "name": "stdout",
     "output_type": "stream",
     "text": [
      "0:0.9784319658749242\n",
      "1:0.6802953033702287\n"
     ]
    }
   ],
   "source": [
    "num_items=2\n",
    "for key,value in list(item_created_time_dict.items())[:num_items]:\n",
    "    print(f\"{key}:{value}\")"
   ]
  },
  {
   "cell_type": "code",
   "execution_count": 27,
   "metadata": {},
   "outputs": [
    {
     "name": "stdout",
     "output_type": "stream",
     "text": [
      "0:168\n",
      "1:189\n"
     ]
    }
   ],
   "source": [
    "num_items=2\n",
    "for key,value in list(item_words_dict.items())[:num_items]:\n",
    "    print(f\"{key}:{value}\")"
   ]
  },
  {
   "cell_type": "code",
   "execution_count": 28,
   "metadata": {},
   "outputs": [],
   "source": [
    "# 定义一个多路召回的字典，将各路召回的结果都保存在这个字典中\n",
    "user_multi_recall_dict={'itemcf_sim_itemcf_recall':{},\n",
    "                        'embedding_sim_item_recall':{},\n",
    "                        'cold_start_recall':{}}"
   ]
  },
  {
   "cell_type": "code",
   "execution_count": 29,
   "metadata": {},
   "outputs": [],
   "source": [
    "user_item_time_dict=get_user_item_time(all_click_df)"
   ]
  },
  {
   "cell_type": "code",
   "execution_count": 30,
   "metadata": {},
   "outputs": [
    {
     "name": "stderr",
     "output_type": "stream",
     "text": [
      "255756it [00:19, 13248.84it/s]\n"
     ]
    }
   ],
   "source": [
    "# 基于embedding的相似性矩阵\n",
    "item_emb_df = pd.read_csv(data_path + '/articles_emb.csv')\n",
    "emb_i2i_sim = embedding_sim(all_click_df, item_emb_df, save_path, topk=10) # topk可以自行设置"
   ]
  },
  {
   "cell_type": "code",
   "execution_count": 31,
   "metadata": {},
   "outputs": [
    {
     "name": "stderr",
     "output_type": "stream",
     "text": [
      "100%|██████████| 1000/1000 [00:02<00:00, 358.11it/s]\n"
     ]
    }
   ],
   "source": [
    "# 基于物品的协同过滤的相似性矩阵\n",
    "i2i_sim = itemcf_sim(all_click_df, item_created_time_dict)"
   ]
  },
  {
   "cell_type": "code",
   "execution_count": 32,
   "metadata": {},
   "outputs": [
    {
     "name": "stderr",
     "output_type": "stream",
     "text": [
      "100%|██████████| 1783/1783 [00:00<00:00, 2469.94it/s]\n"
     ]
    }
   ],
   "source": [
    "# 基于用户的协同过滤的相似性矩阵\n",
    "user_activate_degree_dict = get_user_activate_degree_dict(all_click_df)\n",
    "u2u_sim = usercf_sim(all_click_df, user_activate_degree_dict)"
   ]
  },
  {
   "cell_type": "code",
   "execution_count": 33,
   "metadata": {},
   "outputs": [
    {
     "name": "stderr",
     "output_type": "stream",
     "text": [
      "100%|██████████| 1000/1000 [00:01<00:00, 644.31it/s]\n"
     ]
    }
   ],
   "source": [
    "# itemcf sim召回\n",
    "# 先进行itemcf召回, 为了召回评估，所以提取最后一次点击\n",
    "\n",
    "if metric_recall:\n",
    "    trn_hist_click_df, trn_last_click_df = get_hist_and_last_click(all_click_df)\n",
    "else:\n",
    "    trn_hist_click_df = all_click_df\n",
    "\n",
    "user_recall_items_dict = collections.defaultdict(dict)\n",
    "user_item_time_dict = get_user_item_time(trn_hist_click_df)\n",
    "\n",
    "i2i_sim = pickle.load(open(save_path + 'itemcf_i2i_sim.pkl', 'rb'))\n",
    "emb_i2i_sim = pickle.load(open(save_path + 'emb_i2i_sim.pkl', 'rb'))\n",
    "\n",
    "sim_item_topk = 20\n",
    "recall_item_num = 10\n",
    "item_topk_click = get_item_topk_click(trn_hist_click_df, k=50)\n",
    "\n",
    "for user in tqdm(trn_hist_click_df['user_id'].unique()):\n",
    "    user_recall_items_dict[user] = item_based_recommend(user, user_item_time_dict, \\\n",
    "                                                        i2i_sim, sim_item_topk, recall_item_num, \\\n",
    "                                                        item_topk_click, item_created_time_dict, emb_i2i_sim)\n",
    "\n",
    "user_multi_recall_dict['itemcf_sim_itemcf_recall'] = user_recall_items_dict\n",
    "pickle.dump(user_multi_recall_dict['itemcf_sim_itemcf_recall'], open(save_path + 'itemcf_recall_dict.pkl', 'wb'))\n",
    "\n",
    "if metric_recall:\n",
    "    # 召回效果评估\n",
    "    metrics_recall(user_multi_recall_dict['itemcf_sim_itemcf_recall'], trn_last_click_df)"
   ]
  },
  {
   "cell_type": "code",
   "execution_count": 34,
   "metadata": {},
   "outputs": [
    {
     "name": "stderr",
     "output_type": "stream",
     "text": [
      "100%|██████████| 1000/1000 [00:01<00:00, 871.26it/s]"
     ]
    },
    {
     "name": "stdout",
     "output_type": "stream",
     "text": [
      " topk:  10  :  hit_num:  25 hit_rate:  0.025 user_num :  1000\n"
     ]
    },
    {
     "name": "stderr",
     "output_type": "stream",
     "text": [
      "\n"
     ]
    }
   ],
   "source": [
    "# embedding sim召回\n",
    "# 这里是为了召回评估，所以提取最后一次点击\n",
    "if metric_recall:\n",
    "    trn_hist_click_df, trn_last_click_df = get_hist_and_last_click(all_click_df)\n",
    "else:\n",
    "    trn_hist_click_df = all_click_df\n",
    "\n",
    "user_recall_items_dict = collections.defaultdict(dict)\n",
    "user_item_time_dict = get_user_item_time(trn_hist_click_df)\n",
    "i2i_sim = pickle.load(open(save_path + 'emb_i2i_sim.pkl','rb'))\n",
    "\n",
    "sim_item_topk = 20\n",
    "recall_item_num = 10\n",
    "\n",
    "item_topk_click = get_item_topk_click(trn_hist_click_df, k=50)\n",
    "\n",
    "for user in tqdm(trn_hist_click_df['user_id'].unique()):\n",
    "    user_recall_items_dict[user] = item_based_recommend(user, user_item_time_dict, i2i_sim, sim_item_topk, \n",
    "                                                        recall_item_num, item_topk_click, item_created_time_dict, emb_i2i_sim)\n",
    "    \n",
    "user_multi_recall_dict['embedding_sim_item_recall'] = user_recall_items_dict\n",
    "pickle.dump(user_multi_recall_dict['embedding_sim_item_recall'], open(save_path + 'embedding_sim_item_recall.pkl', 'wb'))\n",
    "\n",
    "if metric_recall:\n",
    "    # 召回效果评估\n",
    "    metrics_recall(user_multi_recall_dict['embedding_sim_item_recall'], trn_last_click_df, topk=recall_item_num)"
   ]
  },
  {
   "cell_type": "code",
   "execution_count": 35,
   "metadata": {},
   "outputs": [
    {
     "name": "stderr",
     "output_type": "stream",
     "text": [
      "100%|██████████| 1000/1000 [00:00<00:00, 1246.00it/s]\n"
     ]
    }
   ],
   "source": [
    "# 冷启动召回\n",
    "# 先进行itemcf召回\n",
    "trn_hist_click_df=all_click_df\n",
    "\n",
    "user_recall_items_dict=collections.defaultdict(dict)\n",
    "user_item_time_dict=get_user_item_time(trn_hist_click_df)\n",
    "i2i_sim=pickle.load(open(save_path+'emb_i2i_sim.pkl','rb'))\n",
    "\n",
    "sim_item_topk=150\n",
    "recall_item_num=100 # 召回的文章数量\n",
    "\n",
    "item_topk_click=get_item_topk_click(trn_hist_click_df,k=50)\n",
    "for user in tqdm(trn_hist_click_df['user_id'].unique()):\n",
    "    user_recall_items_dict[user]=item_based_recommend(user,user_item_time_dict,i2i_sim,sim_item_topk,recall_item_num,item_topk_click,item_created_time_dict,emb_i2i_sim)\n",
    "pickle.dump(user_recall_items_dict,open(save_path+'cold_start_items_raw_dict.pkl','wb'))"
   ]
  },
  {
   "cell_type": "code",
   "execution_count": 36,
   "metadata": {},
   "outputs": [
    {
     "name": "stderr",
     "output_type": "stream",
     "text": [
      "100%|██████████| 1000/1000 [00:01<00:00, 950.02it/s]\n"
     ]
    }
   ],
   "source": [
    "all_click_df_=all_click_df.copy()\n",
    "all_click_df_=all_click_df_.merge(item_info_df,how='left',on='click_article_id')\n",
    "user_hist_item_typs_dict,user_hist_item_ids_dict,user_hist_item_words_dict,user_last_item_created_time_dict=get_user_hist_item_info_dict(all_click_df_)\n",
    "click_article_ids_set = get_click_article_ids_set(all_click_df)\n",
    "# 需要注意的是\n",
    "# 这里使用了很多规则来筛选冷启动的文章，所以前面再召回的阶段就应该尽可能的多召回一些文章，否则很容易被删掉\n",
    "cold_start_user_items_dict = cold_start_items(user_recall_items_dict, user_hist_item_typs_dict, user_hist_item_words_dict, \\\n",
    "                                              user_last_item_created_time_dict, item_type_dict, item_words_dict, \\\n",
    "                                              item_created_time_dict, click_article_ids_set, recall_item_num)\n",
    "\n",
    "user_multi_recall_dict['cold_start_recall'] = cold_start_user_items_dict"
   ]
  },
  {
   "cell_type": "code",
   "execution_count": 37,
   "metadata": {},
   "outputs": [],
   "source": [
    "# 多路召回合并\n",
    "# 对多路召回的权重给了一个相同的值\n",
    "weight_dict = {'itemcf_sim_itemcf_recall': 1.0,\n",
    "               'embedding_sim_item_recall': 1.0,\n",
    "               'cold_start_recall': 1.0}"
   ]
  },
  {
   "cell_type": "code",
   "execution_count": 38,
   "metadata": {},
   "outputs": [
    {
     "name": "stdout",
     "output_type": "stream",
     "text": [
      "多路召回合并...\n"
     ]
    },
    {
     "name": "stderr",
     "output_type": "stream",
     "text": [
      " 67%|██████▋   | 2/3 [00:00<00:00, 14.53it/s]"
     ]
    },
    {
     "name": "stdout",
     "output_type": "stream",
     "text": [
      "itemcf_sim_itemcf_recall...\n",
      "embedding_sim_item_recall...\n",
      "cold_start_recall...\n"
     ]
    },
    {
     "name": "stderr",
     "output_type": "stream",
     "text": [
      "100%|██████████| 3/3 [00:00<00:00, 12.49it/s]\n"
     ]
    }
   ],
   "source": [
    "# 最终合并之后每个用户召回150个商品进行排序\n",
    "final_recall_items_dict_rank = combine_recall_results(user_multi_recall_dict, weight_dict, topk=150)"
   ]
  }
 ],
 "metadata": {
  "kernelspec": {
   "display_name": "news_recommendation_env",
   "language": "python",
   "name": "python3"
  },
  "language_info": {
   "codemirror_mode": {
    "name": "ipython",
    "version": 3
   },
   "file_extension": ".py",
   "mimetype": "text/x-python",
   "name": "python",
   "nbconvert_exporter": "python",
   "pygments_lexer": "ipython3",
   "version": "3.8.20"
  }
 },
 "nbformat": 4,
 "nbformat_minor": 2
}
